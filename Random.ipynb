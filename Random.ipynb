{
  "nbformat": 4,
  "nbformat_minor": 0,
  "metadata": {
    "colab": {
      "provenance": []
    },
    "kernelspec": {
      "name": "python3",
      "display_name": "Python 3"
    },
    "language_info": {
      "name": "python"
    }
  },
  "cells": [
    {
      "cell_type": "code",
      "source": [
        "import requests\n",
        "import csv\n",
        "import json\n",
        "import random\n",
        "import datetime\n",
        "import pandas as pd"
      ],
      "metadata": {
        "id": "oxdE_nB5y6S1"
      },
      "execution_count": 47,
      "outputs": []
    },
    {
      "cell_type": "code",
      "source": [
        "def add_zeros(num):\n",
        "    numberWithZeroes = str(num)\n",
        "    counter = len(numberWithZeroes)\n",
        "\n",
        "    while counter < 11:\n",
        "        numberWithZeroes = \"0\" + numberWithZeroes\n",
        "        counter += 1\n",
        "\n",
        "    return numberWithZeroes  # Return the modified string with leading zeroes"
      ],
      "metadata": {
        "id": "yhiBRjknXWni"
      },
      "execution_count": 3,
      "outputs": []
    },
    {
      "cell_type": "code",
      "source": [
        "def processa_csv(csv_file, json_file):\n",
        "\n",
        "    data = {}\n",
        "    data['listaIdentificadorConta'] = []\n",
        "    counter = 0\n",
        "    today = datetime.date.today()\n",
        "    \n",
        "    with open(csv_file, 'r') as file:\n",
        "        reader = csv.reader(file)\n",
        "        headers = next(reader)\n",
        "        \n",
        "        for row in reader:\n",
        "            cpf = {\n",
        "                'codigoIdentificadorUnicoContaBancoCentralBrasil': add_zeros(row[0])\n",
        "            }\n",
        "            data['listaIdentificadorConta'].append(cpf)\n",
        "            counter += 1\n",
        "    \n",
        "    data['quantidadeListaIdentificadorConta'] = counter  # Add count to JSON\n",
        "    \n",
        "    \n",
        "\n",
        "    for cpf in data['listaIdentificadorConta']:\n",
        "        cpf['pix_existe'] = 'X'\n",
        "        cpf['data_validacao'] = datetime.datetime.now().strftime('%d/%m/%Y')\n",
        "        if 'data_validacao' not in cpf or datetime.datetime.strptime(cpf['data_validacao'], '%d/%m/%Y').date() < today - datetime.timedelta(days=30):\n",
        "            valida(cpf) # For each validate if has pix\n",
        "    \n",
        "    with open(json_file, 'w') as file: # Open the JSON file for writing\n",
        "        json.dump(data, file, indent=4)  # Write the JSON data to the output file with indentation"
      ],
      "metadata": {
        "id": "ficnNt5D6MVK"
      },
      "execution_count": 48,
      "outputs": []
    },
    {
      "cell_type": "code",
      "source": [
        "def valida(cpf):\n",
        "    url = 'https://pbn-controle-pagamento-beneficio.pbn.intranet.bb.com.br/validacao/validarChavePix'\n",
        "    headers = {\n",
        "        'Accept': 'application/json',\n",
        "        'Content-Type': 'application/json'\n",
        "    }\n",
        "    response = requests.post(url, headers=headers, data=cpf)\n",
        "    content = response.json()\n",
        "\n",
        "    return content"
      ],
      "metadata": {
        "id": "fMMGPx0t5saD"
      },
      "execution_count": 46,
      "outputs": []
    },
    {
      "cell_type": "code",
      "source": [],
      "metadata": {
        "id": "iQLGKnaA5sVq"
      },
      "execution_count": null,
      "outputs": []
    },
    {
      "cell_type": "code",
      "source": [],
      "metadata": {
        "id": "ITrFe38U5sX6"
      },
      "execution_count": null,
      "outputs": []
    },
    {
      "cell_type": "code",
      "source": [],
      "metadata": {
        "id": "VG9gIkhJ1KYO"
      },
      "execution_count": null,
      "outputs": []
    },
    {
      "cell_type": "code",
      "source": [
        "json_data = '''\n",
        "{\n",
        "    \"listaIdentificadorConta\": [\n",
        "        {\n",
        "            \"codigoIdentificadorUnicoContaBancoCentralBrasil\": \"04357825172\",\n",
        "            \"pix_existe\": \"X\",\n",
        "            \"data_validacao\": \"30/05/2023\"\n",
        "        },\n",
        "        {\n",
        "            \"codigoIdentificadorUnicoContaBancoCentralBrasil\": \"20138717672\",\n",
        "            \"pix_existe\": \"X\",\n",
        "            \"data_validacao\": \"30/05/2023\"\n",
        "        }\n",
        "    ],\n",
        "    \"quantidadeListaIdentificadorConta\": 2\n",
        "}\n",
        "'''\n",
        "\n",
        "parsed_data = json.loads(json_data)\n",
        "new_lista_identificador_conta = []\n",
        "\n",
        "for item in parsed_data['listaIdentificadorConta']:\n",
        "    new_item = {\n",
        "        'codigoIdentificadorUnicoContaBancoCentralBrasil': item['codigoIdentificadorUnicoContaBancoCentralBrasil']\n",
        "    }\n",
        "    new_lista_identificador_conta.append(new_item)\n",
        "\n",
        "new_json_data = {\n",
        "    'listaIdentificadorConta': new_lista_identificador_conta,\n",
        "    'quantidadeListaIdentificadorConta': parsed_data['quantidadeListaIdentificadorConta']\n",
        "}\n",
        "\n",
        "new_json_string = json.dumps(new_json_data, indent=4)\n",
        "print(new_json_string)"
      ],
      "metadata": {
        "colab": {
          "base_uri": "https://localhost:8080/"
        },
        "id": "XsMWIC5O6MOa",
        "outputId": "d0227618-9fb3-4b01-a494-585586e90bd1"
      },
      "execution_count": 52,
      "outputs": [
        {
          "output_type": "stream",
          "name": "stdout",
          "text": [
            "{\n",
            "    \"listaIdentificadorConta\": [\n",
            "        {\n",
            "            \"codigoIdentificadorUnicoContaBancoCentralBrasil\": \"04357825172\"\n",
            "        },\n",
            "        {\n",
            "            \"codigoIdentificadorUnicoContaBancoCentralBrasil\": \"20138717672\"\n",
            "        }\n",
            "    ],\n",
            "    \"quantidadeListaIdentificadorConta\": 2\n",
            "}\n"
          ]
        }
      ]
    },
    {
      "cell_type": "code",
      "source": [],
      "metadata": {
        "id": "TahlppCY6MQp"
      },
      "execution_count": null,
      "outputs": []
    },
    {
      "cell_type": "code",
      "source": [],
      "metadata": {
        "id": "oKgi9J3n6MS0"
      },
      "execution_count": null,
      "outputs": []
    },
    {
      "cell_type": "code",
      "source": [],
      "metadata": {
        "id": "yAHFGk5C6MZZ"
      },
      "execution_count": null,
      "outputs": []
    },
    {
      "cell_type": "code",
      "source": [],
      "metadata": {
        "id": "2IM2FJ4jzsol"
      },
      "execution_count": null,
      "outputs": []
    },
    {
      "cell_type": "code",
      "source": [
        "csv_file = 'cpfs.csv'  # Replace with your CSV file name\n",
        "json_file = 'cpfs.json'  # Replace with the desired output JSON file name\n",
        "\n",
        "processa_csv(csv_file, json_file)"
      ],
      "metadata": {
        "id": "r0tn05J51KNb"
      },
      "execution_count": 49,
      "outputs": []
    }
  ]
}